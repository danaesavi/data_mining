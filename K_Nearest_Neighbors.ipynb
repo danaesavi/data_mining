{
 "cells": [
  {
   "cell_type": "markdown",
   "metadata": {},
   "source": [
    "# K Nearest Neighbors\n",
    "## Danae Sánchez Villegas 136040\n",
    "This code implements the k nearest neighbors algorithm for numerical values using euclidean distance.\n",
    "\n",
    "We will work with the auto-mpg.csv file but the code is implemented for any numerical base (having a target column)"
   ]
  },
  {
   "cell_type": "code",
   "execution_count": 2,
   "metadata": {
    "collapsed": true
   },
   "outputs": [],
   "source": [
    "#Importing necessary libraries \n",
    "import pandas as pd\n",
    "import math as m\n",
    "import numpy as np"
   ]
  },
  {
   "cell_type": "code",
   "execution_count": 3,
   "metadata": {
    "collapsed": false
   },
   "outputs": [
    {
     "data": {
      "text/html": [
       "<div>\n",
       "<table border=\"1\" class=\"dataframe\">\n",
       "  <thead>\n",
       "    <tr style=\"text-align: right;\">\n",
       "      <th></th>\n",
       "      <th>cylinders</th>\n",
       "      <th>displacement</th>\n",
       "      <th>horsepower</th>\n",
       "      <th>weight</th>\n",
       "      <th>acceleration</th>\n",
       "      <th>model_year</th>\n",
       "      <th>origin</th>\n",
       "      <th>mpg</th>\n",
       "    </tr>\n",
       "  </thead>\n",
       "  <tbody>\n",
       "    <tr>\n",
       "      <th>0</th>\n",
       "      <td>8</td>\n",
       "      <td>307.0</td>\n",
       "      <td>130.0</td>\n",
       "      <td>3504</td>\n",
       "      <td>12.0</td>\n",
       "      <td>70</td>\n",
       "      <td>1</td>\n",
       "      <td>18.0</td>\n",
       "    </tr>\n",
       "    <tr>\n",
       "      <th>1</th>\n",
       "      <td>8</td>\n",
       "      <td>350.0</td>\n",
       "      <td>165.0</td>\n",
       "      <td>3693</td>\n",
       "      <td>11.5</td>\n",
       "      <td>70</td>\n",
       "      <td>1</td>\n",
       "      <td>15.0</td>\n",
       "    </tr>\n",
       "    <tr>\n",
       "      <th>2</th>\n",
       "      <td>8</td>\n",
       "      <td>318.0</td>\n",
       "      <td>150.0</td>\n",
       "      <td>3436</td>\n",
       "      <td>11.0</td>\n",
       "      <td>70</td>\n",
       "      <td>1</td>\n",
       "      <td>18.0</td>\n",
       "    </tr>\n",
       "    <tr>\n",
       "      <th>3</th>\n",
       "      <td>8</td>\n",
       "      <td>304.0</td>\n",
       "      <td>150.0</td>\n",
       "      <td>3433</td>\n",
       "      <td>12.0</td>\n",
       "      <td>70</td>\n",
       "      <td>1</td>\n",
       "      <td>16.0</td>\n",
       "    </tr>\n",
       "    <tr>\n",
       "      <th>4</th>\n",
       "      <td>8</td>\n",
       "      <td>302.0</td>\n",
       "      <td>140.0</td>\n",
       "      <td>3449</td>\n",
       "      <td>10.5</td>\n",
       "      <td>70</td>\n",
       "      <td>1</td>\n",
       "      <td>17.0</td>\n",
       "    </tr>\n",
       "  </tbody>\n",
       "</table>\n",
       "</div>"
      ],
      "text/plain": [
       "   cylinders  displacement  horsepower  weight  acceleration  model_year  \\\n",
       "0          8         307.0       130.0    3504          12.0          70   \n",
       "1          8         350.0       165.0    3693          11.5          70   \n",
       "2          8         318.0       150.0    3436          11.0          70   \n",
       "3          8         304.0       150.0    3433          12.0          70   \n",
       "4          8         302.0       140.0    3449          10.5          70   \n",
       "\n",
       "   origin   mpg  \n",
       "0       1  18.0  \n",
       "1       1  15.0  \n",
       "2       1  18.0  \n",
       "3       1  16.0  \n",
       "4       1  17.0  "
      ]
     },
     "execution_count": 3,
     "metadata": {},
     "output_type": "execute_result"
    }
   ],
   "source": [
    "#The base that will be used \n",
    "base=pd.read_csv('auto-mpg.csv',sep=',')\n",
    "base.head()"
   ]
  },
  {
   "cell_type": "markdown",
   "metadata": {},
   "source": [
    "** Standarize Function**\n",
    "\n",
    "-input: the complete base (attributes and target), the example to be evaluated, the name of the target column\n",
    "\n",
    "-output: standarized base and example, and the separated target column"
   ]
  },
  {
   "cell_type": "code",
   "execution_count": 4,
   "metadata": {
    "collapsed": false
   },
   "outputs": [],
   "source": [
    "def standarize (complete_base,ex,target_name):\n",
    "    atts=[x for x in list(complete_base.columns.values) if x != target_name]      #get a list with the attributes names\n",
    "    base,target=complete_base[atts],complete_base[[target_name]]                  #separate attributes from target column                   \n",
    "    \n",
    "    s_ex=[]                                                   #initialize variable\n",
    "    mean=base.mean()                                          #get the mean per coluumn of the attributes\n",
    "    std=base.std()                                            #get the standard deviation per coluumn of the attributes\n",
    "    b=base.values                                             #get the attributes as a numpy array to easier manage it\n",
    "    \n",
    "    #standarize the base\n",
    "    for i in range(len(b)):                                   #iterate i rows\n",
    "        for j in range(len(base.columns)):                     #iterate j columns\n",
    "            b[i][j]= (b[i][j]-mean[j])/std[j]                    #reassign the value with the standarized one using the \n",
    "                                                                 #formula: x[i][j]-mean[j]/std[j]\n",
    "    \n",
    "    s_base = pd.DataFrame(b,columns=atts)                     #keep the standarized attributes as a dataframe\n",
    "    \n",
    "    #standarize the example\n",
    "    for ind,value in enumerate(ex):                           #iterate the example\n",
    "        s_ex.append((float(value)-mean[ind])/std[ind])          #standarize each element of the example (same formula)\n",
    "       \n",
    "    return s_base,s_ex,target                                 #return the standarized base and example and the target col"
   ]
  },
  {
   "cell_type": "markdown",
   "metadata": {},
   "source": [
    "**Euclidean Distance Function** \n",
    "\n",
    "-input: complete standarized (if necesary) base and the example or observation to be evaluated\n",
    "\n",
    "-output: a list of the ecuclidean distances between each observation and the example"
   ]
  },
  {
   "cell_type": "code",
   "execution_count": 5,
   "metadata": {
    "collapsed": true
   },
   "outputs": [],
   "source": [
    "def eucDistance(base, ex):    \n",
    "    euc_dist,dist=[],0                                 #initializing variables\n",
    "    for row in base.iterrows():                        #iterate the rows of the base\n",
    "        for ind,val in enumerate(ex):                  #iterate the columns \n",
    "            if not m.isnan(row[1][ind]):               #check if there is a value in the base for the row[1][ind] element\n",
    "                dist+=(float(val)-row[1][ind])**2      #add the quadratic difference betwwen the base value and \n",
    "                                                                                                       #the example value\n",
    "        dist=m.sqrt(dist)                              #get the square root of the total sum to get the euclidean dstance\n",
    "        euc_dist.append(dist)                          #add it to the distances list\n",
    "        dist=0                                         #reinitialize the distance for the next observation\n",
    "   \n",
    "    return euc_dist                                    #return the euclidean distances list"
   ]
  },
  {
   "cell_type": "markdown",
   "metadata": {},
   "source": [
    "**Get Neighbors Function**\n",
    "\n",
    "-input: the distances list, the number of neighbors to get, the target column\n",
    "\n",
    "-output: a list with the result of the k nearest neighbors"
   ]
  },
  {
   "cell_type": "code",
   "execution_count": 6,
   "metadata": {
    "collapsed": false
   },
   "outputs": [],
   "source": [
    "def get_neighbors(dist_list,k,cat):\n",
    "    \n",
    "    cat.insert(len(cat.columns),'dist',dist_list)       #join the target column to the distances list\n",
    "    cat_dist=cat.sort_values(by='dist')                 #sort both columns by the distance\n",
    "    to_k, neighbors=1,[]                                #initialize variables\n",
    "    prev=cat_dist.dist.iloc[0]                          #get the first prev i.e. the first of the distance column-->the nearest\n",
    "    \n",
    "    for ind,d in enumerate(cat_dist.dist):          #iterate distances\n",
    "        if prev != d:                              #if the distance is different from prev\n",
    "            prev = d                                   #we have a new prev\n",
    "            if to_k < k:                               #if we haven't reached the k neighbor\n",
    "                to_k = to_k + 1                           #increment k\n",
    "            else:                                      #we've finished\n",
    "                break                                     #get out\n",
    "                \n",
    "        neighbors.append(float(cat_dist.iloc[ind][0]))  #keep the result of the neighbor\n",
    "    \n",
    "    return neighbors                                #return the list with the result of the k nearest neighbors\n"
   ]
  },
  {
   "cell_type": "markdown",
   "metadata": {},
   "source": [
    "** Mean Funtion **\n",
    "\n",
    "-input: list with the result of the neighbors\n",
    "\n",
    "-output: mean of the list"
   ]
  },
  {
   "cell_type": "code",
   "execution_count": 7,
   "metadata": {
    "collapsed": false
   },
   "outputs": [],
   "source": [
    "def mean_neighbors(neighbors):\n",
    "    return np.mean(neighbors)"
   ]
  },
  {
   "cell_type": "markdown",
   "metadata": {},
   "source": [
    "** Evaluating ALgorithm**\n",
    "\n",
    "-input: the complete base (attributes and target), the example to be evaluated, the number of neighbors to take in account, the target column name\n",
    "\n",
    "-output: the evaluation of the example"
   ]
  },
  {
   "cell_type": "code",
   "execution_count": 8,
   "metadata": {
    "collapsed": true
   },
   "outputs": [],
   "source": [
    "def eval_alg(complete_base, ex, k,target_name):\n",
    "    #standarize \n",
    "    s_base,s_ex,target=standarize(complete_base,ex,target_name)\n",
    "    \n",
    "    #get distances\n",
    "    dist_list=eucDistance(s_base,s_ex)\n",
    "      \n",
    "    #get neighhbors\n",
    "    neighbors = get_neighbors(dist_list, k,target)\n",
    " \n",
    "    return mean_neighbors(neighbors)  #return the mean of the neigbors results"
   ]
  },
  {
   "cell_type": "markdown",
   "metadata": {},
   "source": [
    "** K nearest neighbors Function**\n",
    "\n",
    "-input: the name of the file, the name of the target column, the example to be evaluated, the number of neighbors to take in account\n",
    "\n",
    "-output: the evaluation of the example"
   ]
  },
  {
   "cell_type": "code",
   "execution_count": 9,
   "metadata": {
    "collapsed": false
   },
   "outputs": [],
   "source": [
    "def k_neighbors(name_base,symb,target_name,ex,k):\n",
    "    \n",
    "    #training algorithm\n",
    "    complete_base = pd.read_csv(name_base, sep=symb)\n",
    "      \n",
    "    #evaluating algorithm\n",
    "    return eval_alg(complete_base,ex,k,target_name)\n",
    "    \n",
    "    "
   ]
  },
  {
   "cell_type": "code",
   "execution_count": 10,
   "metadata": {
    "collapsed": false
   },
   "outputs": [
    {
     "data": {
      "text/plain": [
       "26.0"
      ]
     },
     "execution_count": 10,
     "metadata": {},
     "output_type": "execute_result"
    }
   ],
   "source": [
    "example=pd.Series(['4','96','69','2189','18','72','2'])\n",
    "k_neighbors('auto-mpg.csv',',','mpg',example,3)"
   ]
  },
  {
   "cell_type": "code",
   "execution_count": null,
   "metadata": {
    "collapsed": true
   },
   "outputs": [],
   "source": []
  }
 ],
 "metadata": {
  "kernelspec": {
   "display_name": "Python [Root]",
   "language": "python",
   "name": "Python [Root]"
  },
  "language_info": {
   "codemirror_mode": {
    "name": "ipython",
    "version": 2
   },
   "file_extension": ".py",
   "mimetype": "text/x-python",
   "name": "python",
   "nbconvert_exporter": "python",
   "pygments_lexer": "ipython2",
   "version": "2.7.12"
  }
 },
 "nbformat": 4,
 "nbformat_minor": 0
}
